{
 "cells": [
  {
   "cell_type": "code",
   "execution_count": 1,
   "id": "5645af85",
   "metadata": {},
   "outputs": [],
   "source": [
    "import requests\n",
    "from bs4 import BeautifulSoup as bs\n",
    "import re\n",
    "import pathlib\n",
    "import ezodf\n",
    "import pandas as pd"
   ]
  },
  {
   "cell_type": "code",
   "execution_count": 2,
   "id": "618e06b1",
   "metadata": {},
   "outputs": [],
   "source": [
    "url = \"https://www.data.gov.uk/dataset/5d5028ef-9918-4ab7-8755-81f3ad06f308/pesticide-residues-in-food\""
   ]
  },
  {
   "cell_type": "code",
   "execution_count": 3,
   "id": "7451b632",
   "metadata": {},
   "outputs": [],
   "source": [
    "def get_soup(url): # integrated function to return parsed HTML\n",
    "    return bs(requests.get(url).content)\n",
    "\n",
    "soup = get_soup(url)"
   ]
  },
  {
   "cell_type": "code",
   "execution_count": 4,
   "id": "d2b4a5d8",
   "metadata": {},
   "outputs": [],
   "source": [
    "# getting a list of the links that contain \".ods\" filename extension\n",
    "file_urls = [a.get('href') for a in soup.find_all('a', href=True) if (re.search('ods',(a.get('href'))))] "
   ]
  },
  {
   "cell_type": "code",
   "execution_count": 5,
   "id": "5d33448c",
   "metadata": {},
   "outputs": [],
   "source": [
    "# don't want repeated data, so take annual data if available, then quarterly up to most recent\n",
    "ann_file_urls = [x for x in file_urls if 'annual' in x.lower()]\n",
    "\n",
    "def return_years_available(urls):\n",
    "    years = []\n",
    "    for url in urls:\n",
    "        match = re.search(r'\\d{4}', url)\n",
    "        if match:\n",
    "            year = match.group()\n",
    "            years.append(year)\n",
    "    return set(years)\n",
    "        \n",
    "        \n",
    "years_available = return_years_available(file_urls)        \n",
    "years_with_ann = return_years_available(ann_file_urls)\n",
    "\n",
    "years_need_quarterly = list(years_available - years_with_ann)"
   ]
  },
  {
   "cell_type": "code",
   "execution_count": 6,
   "id": "9f0813b0",
   "metadata": {},
   "outputs": [],
   "source": [
    "# most recent quarterly urls where annual data isn't available\n",
    "qua_file_urls = [x for x in file_urls if any(y in x for y in years_need_quarterly) and 'quarterly' in x.lower()]"
   ]
  },
  {
   "cell_type": "code",
   "execution_count": 7,
   "id": "458d3c2f",
   "metadata": {},
   "outputs": [],
   "source": [
    "file_urls = ann_file_urls + qua_file_urls"
   ]
  },
  {
   "cell_type": "code",
   "execution_count": 8,
   "id": "80143b63",
   "metadata": {},
   "outputs": [],
   "source": [
    "file_names = [re.search('([A-Za-z_0-9.-]*\\.ods)', url).group() for url in file_urls]"
   ]
  },
  {
   "cell_type": "code",
   "execution_count": 9,
   "id": "36b020fe",
   "metadata": {},
   "outputs": [
    {
     "data": {
      "text/plain": [
       "['https://s3.eu-west-1.amazonaws.com/data.defra.gov.uk/PRIF/2021_annual_data.ods',\n",
       " 'https://s3.eu-west-1.amazonaws.com/data.defra.gov.uk/PRIF/2020_prif_Annual.ods',\n",
       " 'https://s3.eu-west-1.amazonaws.com/data.defra.gov.uk/PRIF/2019_annual_data.ods',\n",
       " 'https://s3.eu-west-1.amazonaws.com/data.defra.gov.uk/PRIF/2018_annual_data_v2.ods',\n",
       " 'https://s3.eu-west-1.amazonaws.com/data.defra.gov.uk/PRIF/2017_annual_data.ods',\n",
       " 'https://s3.eu-west-1.amazonaws.com/data.defra.gov.uk/PRIF/2016_annual_data.ods',\n",
       " 'https://s3.eu-west-1.amazonaws.com/data.defra.gov.uk/PRIF/Q2_2022_quarterly_data.ods',\n",
       " 'https://s3.eu-west-1.amazonaws.com/data.defra.gov.uk/PRIF/Q1_2022_quarterly_data.ods']"
      ]
     },
     "execution_count": 9,
     "metadata": {},
     "output_type": "execute_result"
    }
   ],
   "source": [
    "file_urls"
   ]
  },
  {
   "cell_type": "code",
   "execution_count": 10,
   "id": "fc319361",
   "metadata": {},
   "outputs": [],
   "source": [
    "def get_path(file_name): \n",
    "    filetopath = pathlib.Path.cwd() / \"data\" / file_name\n",
    "    return filetopath"
   ]
  },
  {
   "cell_type": "code",
   "execution_count": 11,
   "id": "cc9e2911",
   "metadata": {},
   "outputs": [],
   "source": [
    "def save_files_locally(file_urls, file_names):\n",
    "    for url,file_name in zip(file_urls,file_names):\n",
    "        # getting the raw data from each url\n",
    "        response = requests.get(url, stream=True)\n",
    "        filetopath = get_path(file_name)\n",
    "        # using open method to open a file on system and write the contents\n",
    "        with open(filetopath, 'wb') as f:\n",
    "            for chunk in response.iter_content(chunk_size=8192):\n",
    "                if chunk:\n",
    "                    # using with open write to write response.content to local filepath \n",
    "                    f.write(chunk) "
   ]
  },
  {
   "cell_type": "code",
   "execution_count": 12,
   "id": "cd450aaa",
   "metadata": {},
   "outputs": [],
   "source": [
    "# saves each file in the current directory, in a folder called \"data\"\n",
    "# save_files_locally(file_urls,file_names) "
   ]
  },
  {
   "cell_type": "code",
   "execution_count": 13,
   "id": "ab413258",
   "metadata": {},
   "outputs": [],
   "source": [
    "def get_doc(filetopath):\n",
    "    doc = ezodf.opendoc(filetopath)\n",
    "    return doc\n",
    "\n",
    "def sheet_names_indexes(doc):\n",
    "    sheet_name_index = {sheet.name: i for i,sheet in enumerate(doc.sheets)}\n",
    "    return sheet_name_index\n",
    "\n",
    "def doc_to_sheet(doc,ind):\n",
    "    sheet = doc.sheets[ind]\n",
    "    return sheet\n",
    "\n",
    "def get_len_of_doc(doc): #gets the number of sheets in the document\n",
    "    count = len(doc.sheets)\n",
    "    return count\n",
    "\n",
    "def identify_categories(row): ### Could use this to put categories as their own column and then fill forward. \n",
    "    cells = [cell.value for cell in row]\n",
    "    if cells[0] != None and all(x is None for x in cells[1:]):\n",
    "        return True\n",
    "    else:\n",
    "        return False\n",
    "\n",
    "def sheet_to_df(sheet):\n",
    "    df_dict = {}\n",
    "    \n",
    "    for i, row in enumerate(sheet.rows()):\n",
    "    #     row is a list of cells\n",
    "    # #     assume the header is on the first row\n",
    "        if i == 0:\n",
    "            title = sheet.row(0)[0].value\n",
    "        elif i == 1:\n",
    "            # columns as lists in a dictionary\n",
    "    #         print(cell.value)\n",
    "    #         df_dict.update({cell.value:[]})\n",
    "            df_dict = {cell.value:[] for cell in row}\n",
    "            col_index = [col_title for col_title in df_dict.keys()]\n",
    "        elif i > 1:\n",
    "            if identify_categories(row): ###should this be outside the for loop?\n",
    "                 ### want to do something useful with this but first get it to skipp any category rows\n",
    "                pass\n",
    "            for j,cell in enumerate(row):\n",
    "                try:\n",
    "                    df_dict[col_index[j]].append(cell.value)\n",
    "                except:\n",
    "                    pass\n",
    "    return pd.DataFrame(df_dict)"
   ]
  },
  {
   "cell_type": "code",
   "execution_count": 14,
   "id": "26ba9545",
   "metadata": {
    "scrolled": true
   },
   "outputs": [],
   "source": [
    "# file_name = file_names[0]\n",
    "dfs = []\n",
    "cols = ['Sample ID', 'Date of Sampling', 'Description', 'Country of Origin',\n",
    "        'Sampling Point', 'Address', 'Brand Name', 'Packer / Manufacturer / Importer', \n",
    "        'Pesticide residues found in mg/kg (MRL)', None]\n",
    "for file in file_names:\n",
    "    filetopath = get_path(file)\n",
    "    doc = get_doc(filetopath)\n",
    "    sheet_name_idx = sheet_names_indexes(doc)\n",
    "    bna_idxs = [value for key, value in sheet_name_idx.items() if 'BNA' in key]\n",
    "    for idx in bna_idxs:\n",
    "        sheet = doc_to_sheet(doc, idx)\n",
    "        df = sheet_to_df(sheet)\n",
    "        try:\n",
    "            df.columns = cols\n",
    "        except:\n",
    "            pass\n",
    "        dfs.append(df)"
   ]
  },
  {
   "cell_type": "code",
   "execution_count": 15,
   "id": "c5bc7e4a",
   "metadata": {},
   "outputs": [],
   "source": [
    "df = pd.concat(dfs).reset_index(drop=True)"
   ]
  },
  {
   "cell_type": "code",
   "execution_count": 16,
   "id": "198a8ef5",
   "metadata": {},
   "outputs": [],
   "source": [
    "df = df.iloc[:,:9]"
   ]
  },
  {
   "cell_type": "code",
   "execution_count": 17,
   "id": "07aae7b8",
   "metadata": {},
   "outputs": [
    {
     "data": {
      "text/html": [
       "<div>\n",
       "<style scoped>\n",
       "    .dataframe tbody tr th:only-of-type {\n",
       "        vertical-align: middle;\n",
       "    }\n",
       "\n",
       "    .dataframe tbody tr th {\n",
       "        vertical-align: top;\n",
       "    }\n",
       "\n",
       "    .dataframe thead th {\n",
       "        text-align: right;\n",
       "    }\n",
       "</style>\n",
       "<table border=\"1\" class=\"dataframe\">\n",
       "  <thead>\n",
       "    <tr style=\"text-align: right;\">\n",
       "      <th></th>\n",
       "      <th>Sample ID</th>\n",
       "      <th>Date of Sampling</th>\n",
       "      <th>Description</th>\n",
       "      <th>Country of Origin</th>\n",
       "      <th>Sampling Point</th>\n",
       "      <th>Address</th>\n",
       "      <th>Brand Name</th>\n",
       "      <th>Packer / Manufacturer / Importer</th>\n",
       "      <th>Pesticide residues found in mg/kg (MRL)</th>\n",
       "    </tr>\n",
       "  </thead>\n",
       "  <tbody>\n",
       "    <tr>\n",
       "      <th>0</th>\n",
       "      <td>3729/2021</td>\n",
       "      <td>2021-05-25T00:00:00</td>\n",
       "      <td>Green Asparagus</td>\n",
       "      <td>UK</td>\n",
       "      <td>Aberdeen &amp; Stanton Ltd</td>\n",
       "      <td>67 New Spitalfields Market, Sherrin Road, Leyt...</td>\n",
       "      <td>Watts Farms</td>\n",
       "      <td>Watts Farm Farningham Hill Road, Farningham, K...</td>\n",
       "      <td>None were detected above the set RL</td>\n",
       "    </tr>\n",
       "    <tr>\n",
       "      <th>1</th>\n",
       "      <td>3697/2021</td>\n",
       "      <td>2021-05-25T00:00:00</td>\n",
       "      <td>Asparagus</td>\n",
       "      <td>UK</td>\n",
       "      <td>Addey &amp; Son (Western International) Ltd</td>\n",
       "      <td>P35 Western International Market, Hayes Road, ...</td>\n",
       "      <td>Spanton Farms</td>\n",
       "      <td>Edward Spanton Farms Wayborough Farm, Minster,...</td>\n",
       "      <td>None were detected above the set RL</td>\n",
       "    </tr>\n",
       "    <tr>\n",
       "      <th>2</th>\n",
       "      <td>3715/2021</td>\n",
       "      <td>2021-05-11T00:00:00</td>\n",
       "      <td>Asparagus</td>\n",
       "      <td>UK</td>\n",
       "      <td>Aldi</td>\n",
       "      <td>Thomsett Way, Queenborough, Kent ME11 5AR</td>\n",
       "      <td>Aldi</td>\n",
       "      <td></td>\n",
       "      <td>None were detected above the set RL</td>\n",
       "    </tr>\n",
       "    <tr>\n",
       "      <th>3</th>\n",
       "      <td>5503/2021</td>\n",
       "      <td>2021-11-15T00:00:00</td>\n",
       "      <td>Asparagus Tips</td>\n",
       "      <td>Peru</td>\n",
       "      <td>Aldi</td>\n",
       "      <td>Marton Road, Middlesbrough TS4 2PQ</td>\n",
       "      <td>Nature's Pick</td>\n",
       "      <td>Aldi Stores Ltd PO Box 26. Atherstone, Warwick...</td>\n",
       "      <td>None were detected above the set RL</td>\n",
       "    </tr>\n",
       "    <tr>\n",
       "      <th>4</th>\n",
       "      <td>0565/2021</td>\n",
       "      <td>2021-10-18T00:00:00</td>\n",
       "      <td>Asparagus</td>\n",
       "      <td>Peru</td>\n",
       "      <td>Asda</td>\n",
       "      <td>Western Way, Bury St Edmunds IP33 3SP</td>\n",
       "      <td>ASDA Grower Selection</td>\n",
       "      <td>ASDA Stores Ltd Great Wilson Street, Leeds LS1...</td>\n",
       "      <td>None were detected above the set RL</td>\n",
       "    </tr>\n",
       "    <tr>\n",
       "      <th>...</th>\n",
       "      <td>...</td>\n",
       "      <td>...</td>\n",
       "      <td>...</td>\n",
       "      <td>...</td>\n",
       "      <td>...</td>\n",
       "      <td>...</td>\n",
       "      <td>...</td>\n",
       "      <td>...</td>\n",
       "      <td>...</td>\n",
       "    </tr>\n",
       "    <tr>\n",
       "      <th>38007</th>\n",
       "      <td>0005/2022</td>\n",
       "      <td>2022-01-24T00:00:00</td>\n",
       "      <td>Julita</td>\n",
       "      <td>Spain</td>\n",
       "      <td>Tesco</td>\n",
       "      <td>Jubilee Way, Newtownabbey BT36 5XD</td>\n",
       "      <td>Tesco Finest</td>\n",
       "      <td>Tesco Stores Ltd Tesco House, Shire Park, Kest...</td>\n",
       "      <td>azoxystrobin 0.08 (MRL = 3)</td>\n",
       "    </tr>\n",
       "    <tr>\n",
       "      <th>38008</th>\n",
       "      <td>0005/2022</td>\n",
       "      <td>2022-01-24T00:00:00</td>\n",
       "      <td>Julita</td>\n",
       "      <td>Spain</td>\n",
       "      <td>Tesco</td>\n",
       "      <td>Jubilee Way, Newtownabbey BT36 5XD</td>\n",
       "      <td>Tesco Finest</td>\n",
       "      <td>Tesco Stores Ltd Tesco House, Shire Park, Kest...</td>\n",
       "      <td>boscalid 0.4 (MRL = 3)</td>\n",
       "    </tr>\n",
       "    <tr>\n",
       "      <th>38009</th>\n",
       "      <td>0005/2022</td>\n",
       "      <td>2022-01-24T00:00:00</td>\n",
       "      <td>Julita</td>\n",
       "      <td>Spain</td>\n",
       "      <td>Tesco</td>\n",
       "      <td>Jubilee Way, Newtownabbey BT36 5XD</td>\n",
       "      <td>Tesco Finest</td>\n",
       "      <td>Tesco Stores Ltd Tesco House, Shire Park, Kest...</td>\n",
       "      <td>fenpyrazamine 0.3 (MRL = 3)</td>\n",
       "    </tr>\n",
       "    <tr>\n",
       "      <th>38010</th>\n",
       "      <td>0370/2022 Organic</td>\n",
       "      <td>2022-03-14T00:00:00</td>\n",
       "      <td>Organic Ramyle</td>\n",
       "      <td>Spain</td>\n",
       "      <td>Tesco</td>\n",
       "      <td>Jubilee Way, Newtownabbey BT36 5HD</td>\n",
       "      <td>Tesco Organic</td>\n",
       "      <td>Tesco Ireland Ltd Gresham House, Marine Road, ...</td>\n",
       "      <td>None were detected above the set RL</td>\n",
       "    </tr>\n",
       "    <tr>\n",
       "      <th>38011</th>\n",
       "      <td>0370/2022 Organic</td>\n",
       "      <td>2022-03-14T00:00:00</td>\n",
       "      <td>Organic Ramyle</td>\n",
       "      <td>Spain</td>\n",
       "      <td>Tesco</td>\n",
       "      <td>Jubilee Way, Newtownabbey BT36 5HD</td>\n",
       "      <td>Tesco Organic</td>\n",
       "      <td>Tesco Ireland Ltd Gresham House, Marine Road, ...</td>\n",
       "      <td>None were detected above the set RL</td>\n",
       "    </tr>\n",
       "  </tbody>\n",
       "</table>\n",
       "<p>38012 rows × 9 columns</p>\n",
       "</div>"
      ],
      "text/plain": [
       "               Sample ID     Date of Sampling      Description  \\\n",
       "0              3729/2021  2021-05-25T00:00:00  Green Asparagus   \n",
       "1              3697/2021  2021-05-25T00:00:00        Asparagus   \n",
       "2              3715/2021  2021-05-11T00:00:00        Asparagus   \n",
       "3              5503/2021  2021-11-15T00:00:00   Asparagus Tips   \n",
       "4              0565/2021  2021-10-18T00:00:00        Asparagus   \n",
       "...                  ...                  ...              ...   \n",
       "38007          0005/2022  2022-01-24T00:00:00           Julita   \n",
       "38008          0005/2022  2022-01-24T00:00:00           Julita   \n",
       "38009          0005/2022  2022-01-24T00:00:00           Julita   \n",
       "38010  0370/2022 Organic  2022-03-14T00:00:00   Organic Ramyle   \n",
       "38011  0370/2022 Organic  2022-03-14T00:00:00   Organic Ramyle   \n",
       "\n",
       "      Country of Origin                           Sampling Point  \\\n",
       "0                    UK                   Aberdeen & Stanton Ltd   \n",
       "1                    UK  Addey & Son (Western International) Ltd   \n",
       "2                    UK                                     Aldi   \n",
       "3                  Peru                                     Aldi   \n",
       "4                  Peru                                     Asda   \n",
       "...                 ...                                      ...   \n",
       "38007             Spain                                    Tesco   \n",
       "38008             Spain                                    Tesco   \n",
       "38009             Spain                                    Tesco   \n",
       "38010             Spain                                    Tesco   \n",
       "38011             Spain                                    Tesco   \n",
       "\n",
       "                                                 Address  \\\n",
       "0      67 New Spitalfields Market, Sherrin Road, Leyt...   \n",
       "1      P35 Western International Market, Hayes Road, ...   \n",
       "2              Thomsett Way, Queenborough, Kent ME11 5AR   \n",
       "3                     Marton Road, Middlesbrough TS4 2PQ   \n",
       "4                  Western Way, Bury St Edmunds IP33 3SP   \n",
       "...                                                  ...   \n",
       "38007                 Jubilee Way, Newtownabbey BT36 5XD   \n",
       "38008                 Jubilee Way, Newtownabbey BT36 5XD   \n",
       "38009                 Jubilee Way, Newtownabbey BT36 5XD   \n",
       "38010                 Jubilee Way, Newtownabbey BT36 5HD   \n",
       "38011                 Jubilee Way, Newtownabbey BT36 5HD   \n",
       "\n",
       "                   Brand Name  \\\n",
       "0                Watts Farms    \n",
       "1              Spanton Farms    \n",
       "2                       Aldi    \n",
       "3              Nature's Pick    \n",
       "4      ASDA Grower Selection    \n",
       "...                       ...   \n",
       "38007           Tesco Finest    \n",
       "38008           Tesco Finest    \n",
       "38009           Tesco Finest    \n",
       "38010          Tesco Organic    \n",
       "38011          Tesco Organic    \n",
       "\n",
       "                        Packer / Manufacturer / Importer  \\\n",
       "0      Watts Farm Farningham Hill Road, Farningham, K...   \n",
       "1      Edward Spanton Farms Wayborough Farm, Minster,...   \n",
       "2                                                          \n",
       "3      Aldi Stores Ltd PO Box 26. Atherstone, Warwick...   \n",
       "4      ASDA Stores Ltd Great Wilson Street, Leeds LS1...   \n",
       "...                                                  ...   \n",
       "38007  Tesco Stores Ltd Tesco House, Shire Park, Kest...   \n",
       "38008  Tesco Stores Ltd Tesco House, Shire Park, Kest...   \n",
       "38009  Tesco Stores Ltd Tesco House, Shire Park, Kest...   \n",
       "38010  Tesco Ireland Ltd Gresham House, Marine Road, ...   \n",
       "38011  Tesco Ireland Ltd Gresham House, Marine Road, ...   \n",
       "\n",
       "      Pesticide residues found in mg/kg (MRL)  \n",
       "0         None were detected above the set RL  \n",
       "1         None were detected above the set RL  \n",
       "2         None were detected above the set RL  \n",
       "3         None were detected above the set RL  \n",
       "4         None were detected above the set RL  \n",
       "...                                       ...  \n",
       "38007             azoxystrobin 0.08 (MRL = 3)  \n",
       "38008                  boscalid 0.4 (MRL = 3)  \n",
       "38009             fenpyrazamine 0.3 (MRL = 3)  \n",
       "38010     None were detected above the set RL  \n",
       "38011     None were detected above the set RL  \n",
       "\n",
       "[38012 rows x 9 columns]"
      ]
     },
     "execution_count": 17,
     "metadata": {},
     "output_type": "execute_result"
    }
   ],
   "source": [
    "df.fillna(method='ffill', inplace=True) # forward filling the Nones \n",
    "df"
   ]
  },
  {
   "cell_type": "code",
   "execution_count": 18,
   "id": "a24ff25e",
   "metadata": {},
   "outputs": [
    {
     "data": {
      "text/plain": [
       "Sample ID                                  0\n",
       "Date of Sampling                           0\n",
       "Description                                0\n",
       "Country of Origin                          0\n",
       "Sampling Point                             0\n",
       "Address                                    0\n",
       "Brand Name                                 0\n",
       "Packer / Manufacturer / Importer           0\n",
       "Pesticide residues found in mg/kg (MRL)    0\n",
       "dtype: int64"
      ]
     },
     "execution_count": 18,
     "metadata": {},
     "output_type": "execute_result"
    }
   ],
   "source": [
    "df.isna().sum()"
   ]
  },
  {
   "cell_type": "code",
   "execution_count": 19,
   "id": "f30c10e9",
   "metadata": {},
   "outputs": [],
   "source": [
    "renaming_dict ={\n",
    "old_name : lowercase_name \n",
    "    for old_name,lowercase_name \n",
    "    in zip(list(df),[new_name.lower().replace(' ','_') \n",
    "                     for new_name in list(df)])\n",
    "}\n",
    "renaming_dict.update({'Packer / Manufacturer / Importer': 'packer / manufacturer / importer'})\n",
    "df = df.rename(columns=renaming_dict)"
   ]
  },
  {
   "cell_type": "code",
   "execution_count": 20,
   "id": "ef282a84",
   "metadata": {},
   "outputs": [
    {
     "data": {
      "text/plain": [
       "38012"
      ]
     },
     "execution_count": 20,
     "metadata": {},
     "output_type": "execute_result"
    }
   ],
   "source": [
    "len(df)"
   ]
  },
  {
   "cell_type": "code",
   "execution_count": 23,
   "id": "3c9c4468",
   "metadata": {},
   "outputs": [
    {
     "data": {
      "text/plain": [
       "33024"
      ]
     },
     "execution_count": 23,
     "metadata": {},
     "output_type": "execute_result"
    }
   ],
   "source": [
    "df = df.drop_duplicates()\n",
    "len(df)"
   ]
  },
  {
   "cell_type": "code",
   "execution_count": 24,
   "id": "3a6e1b29",
   "metadata": {},
   "outputs": [],
   "source": [
    "df.replace({'None were detected above the set RL': 'n/a'}, regex=True, inplace=True)"
   ]
  },
  {
   "cell_type": "code",
   "execution_count": 25,
   "id": "74b3f9b4",
   "metadata": {},
   "outputs": [
    {
     "data": {
      "text/html": [
       "<div>\n",
       "<style scoped>\n",
       "    .dataframe tbody tr th:only-of-type {\n",
       "        vertical-align: middle;\n",
       "    }\n",
       "\n",
       "    .dataframe tbody tr th {\n",
       "        vertical-align: top;\n",
       "    }\n",
       "\n",
       "    .dataframe thead th {\n",
       "        text-align: right;\n",
       "    }\n",
       "</style>\n",
       "<table border=\"1\" class=\"dataframe\">\n",
       "  <thead>\n",
       "    <tr style=\"text-align: right;\">\n",
       "      <th></th>\n",
       "      <th>sample_id</th>\n",
       "      <th>date_of_sampling</th>\n",
       "      <th>description</th>\n",
       "      <th>country_of_origin</th>\n",
       "      <th>sampling_point</th>\n",
       "      <th>address</th>\n",
       "      <th>brand_name</th>\n",
       "      <th>packer / manufacturer / importer</th>\n",
       "      <th>pesticide_residues_found_in_mg/kg_(mrl)</th>\n",
       "    </tr>\n",
       "  </thead>\n",
       "  <tbody>\n",
       "    <tr>\n",
       "      <th>6</th>\n",
       "      <td>3615/2021</td>\n",
       "      <td>2021-02-22T00:00:00</td>\n",
       "      <td>Asparagus</td>\n",
       "      <td>Mexico</td>\n",
       "      <td>Asda</td>\n",
       "      <td>Kings Weston Lane, Avonmouth, Bristol BS11 8AS</td>\n",
       "      <td>Asda Grower Selection</td>\n",
       "      <td>Wealmoor Ltd Greenford Park, Greenford UB6 0TP</td>\n",
       "      <td>flonicamid (sum) 0.2 (MRL = 0.03*)</td>\n",
       "    </tr>\n",
       "  </tbody>\n",
       "</table>\n",
       "</div>"
      ],
      "text/plain": [
       "   sample_id     date_of_sampling description country_of_origin  \\\n",
       "6  3615/2021  2021-02-22T00:00:00   Asparagus            Mexico   \n",
       "\n",
       "  sampling_point                                         address  \\\n",
       "6           Asda  Kings Weston Lane, Avonmouth, Bristol BS11 8AS   \n",
       "\n",
       "               brand_name                packer / manufacturer / importer  \\\n",
       "6  Asda Grower Selection   Wealmoor Ltd Greenford Park, Greenford UB6 0TP   \n",
       "\n",
       "  pesticide_residues_found_in_mg/kg_(mrl)  \n",
       "6      flonicamid (sum) 0.2 (MRL = 0.03*)  "
      ]
     },
     "execution_count": 25,
     "metadata": {},
     "output_type": "execute_result"
    }
   ],
   "source": [
    "# values with a * mean they are over\n",
    "df[df.apply(lambda x: x.str.contains('\\*', na=False)).any(axis=1)].head(1)"
   ]
  },
  {
   "cell_type": "code",
   "execution_count": 26,
   "id": "5d8132dc",
   "metadata": {},
   "outputs": [
    {
     "data": {
      "text/plain": [
       "38001         fluopyram 0.01 (MRL = 0.5)\n",
       "38002         fluopyram 0.01 (MRL = 0.5)\n",
       "38003        azoxystrobin 0.06 (MRL = 3)\n",
       "38004             boscalid 0.3 (MRL = 3)\n",
       "38005       fenpyrazamine 0.08 (MRL = 3)\n",
       "38006    spinosad (sum) 0.01 (MRL = 0.7)\n",
       "38007        azoxystrobin 0.08 (MRL = 3)\n",
       "38008             boscalid 0.4 (MRL = 3)\n",
       "38009        fenpyrazamine 0.3 (MRL = 3)\n",
       "38010                                n/a\n",
       "Name: pesticide_residues_found_in_mg/kg_(mrl), dtype: object"
      ]
     },
     "execution_count": 26,
     "metadata": {},
     "output_type": "execute_result"
    }
   ],
   "source": [
    "df['pesticide_residues_found_in_mg/kg_(mrl)'].tail(10)"
   ]
  },
  {
   "cell_type": "code",
   "execution_count": 27,
   "id": "2d10bff3",
   "metadata": {},
   "outputs": [],
   "source": [
    "df['amount_detected'] = df['pesticide_residues_found_in_mg/kg_(mrl)'].str.split('MRL').str[0].str.split('(').str[-2].str.split(' ').str[-2]\n",
    "df['chem_name'] = df['pesticide_residues_found_in_mg/kg_(mrl)'].str.split(' ').str[0].str.replace(' ', '')\n",
    "df['MRL']= df['pesticide_residues_found_in_mg/kg_(mrl)'].str.split('(').str[-1].str.split('*').str[0].str.split(')').str[0].str.split('=').str[1].str.replace(' ', '')"
   ]
  },
  {
   "cell_type": "code",
   "execution_count": 28,
   "id": "6b610da3",
   "metadata": {},
   "outputs": [
    {
     "data": {
      "text/plain": [
       "33024"
      ]
     },
     "execution_count": 28,
     "metadata": {},
     "output_type": "execute_result"
    }
   ],
   "source": [
    "len(df)"
   ]
  },
  {
   "cell_type": "code",
   "execution_count": 29,
   "id": "71d709a3",
   "metadata": {},
   "outputs": [],
   "source": [
    "df = df.loc[~df['pesticide_residues_found_in_mg/kg_(mrl)'].str.contains('15L')]"
   ]
  },
  {
   "cell_type": "code",
   "execution_count": 30,
   "id": "76ca3f94",
   "metadata": {},
   "outputs": [
    {
     "data": {
      "text/plain": [
       "33023"
      ]
     },
     "execution_count": 30,
     "metadata": {},
     "output_type": "execute_result"
    }
   ],
   "source": [
    "len(df)"
   ]
  },
  {
   "cell_type": "code",
   "execution_count": 31,
   "id": "a97d79dd",
   "metadata": {},
   "outputs": [],
   "source": [
    "df = df.loc[~df['pesticide_residues_found_in_mg/kg_(mrl)'].str.contains('No MRL')]"
   ]
  },
  {
   "cell_type": "code",
   "execution_count": 32,
   "id": "cb5a9579",
   "metadata": {},
   "outputs": [
    {
     "data": {
      "text/plain": [
       "32653"
      ]
     },
     "execution_count": 32,
     "metadata": {},
     "output_type": "execute_result"
    }
   ],
   "source": [
    "len(df)"
   ]
  },
  {
   "cell_type": "code",
   "execution_count": 33,
   "id": "c99ff020",
   "metadata": {},
   "outputs": [],
   "source": [
    "df = df.loc[~df['pesticide_residues_found_in_mg/kg_(mrl)'].str.contains('†')]"
   ]
  },
  {
   "cell_type": "code",
   "execution_count": 34,
   "id": "0edb9efa",
   "metadata": {},
   "outputs": [
    {
     "data": {
      "text/plain": [
       "32538"
      ]
     },
     "execution_count": 34,
     "metadata": {},
     "output_type": "execute_result"
    }
   ],
   "source": [
    "len(df)"
   ]
  },
  {
   "cell_type": "code",
   "execution_count": 35,
   "id": "dbd130e8",
   "metadata": {},
   "outputs": [],
   "source": [
    "df = df.loc[~df['pesticide_residues_found_in_mg/kg_(mrl)'].str.contains('0.047')]"
   ]
  },
  {
   "cell_type": "code",
   "execution_count": 36,
   "id": "91b4098d",
   "metadata": {},
   "outputs": [
    {
     "data": {
      "text/plain": [
       "32536"
      ]
     },
     "execution_count": 36,
     "metadata": {},
     "output_type": "execute_result"
    }
   ],
   "source": [
    "len(df)"
   ]
  },
  {
   "cell_type": "code",
   "execution_count": 37,
   "id": "3ee69f16",
   "metadata": {},
   "outputs": [
    {
     "data": {
      "text/html": [
       "<div>\n",
       "<style scoped>\n",
       "    .dataframe tbody tr th:only-of-type {\n",
       "        vertical-align: middle;\n",
       "    }\n",
       "\n",
       "    .dataframe tbody tr th {\n",
       "        vertical-align: top;\n",
       "    }\n",
       "\n",
       "    .dataframe thead th {\n",
       "        text-align: right;\n",
       "    }\n",
       "</style>\n",
       "<table border=\"1\" class=\"dataframe\">\n",
       "  <thead>\n",
       "    <tr style=\"text-align: right;\">\n",
       "      <th></th>\n",
       "      <th>sample_id</th>\n",
       "      <th>date_of_sampling</th>\n",
       "      <th>description</th>\n",
       "      <th>country_of_origin</th>\n",
       "      <th>sampling_point</th>\n",
       "      <th>address</th>\n",
       "      <th>brand_name</th>\n",
       "      <th>packer / manufacturer / importer</th>\n",
       "      <th>pesticide_residues_found_in_mg/kg_(mrl)</th>\n",
       "      <th>amount_detected</th>\n",
       "      <th>chem_name</th>\n",
       "      <th>MRL</th>\n",
       "    </tr>\n",
       "  </thead>\n",
       "  <tbody>\n",
       "  </tbody>\n",
       "</table>\n",
       "</div>"
      ],
      "text/plain": [
       "Empty DataFrame\n",
       "Columns: [sample_id, date_of_sampling, description, country_of_origin, sampling_point, address, brand_name, packer / manufacturer / importer, pesticide_residues_found_in_mg/kg_(mrl), amount_detected, chem_name, MRL]\n",
       "Index: []"
      ]
     },
     "execution_count": 37,
     "metadata": {},
     "output_type": "execute_result"
    }
   ],
   "source": [
    "df.loc[(df['pesticide_residues_found_in_mg/kg_(mrl)'] == 'n/a') & ~(df['amount_detected'].isna())]"
   ]
  },
  {
   "cell_type": "code",
   "execution_count": 38,
   "id": "4bd84fee",
   "metadata": {},
   "outputs": [],
   "source": [
    "df.loc[df['chem_name'] == 'n/a', 'amount_detected'] = None\n",
    "df.loc[df['chem_name'] == 'n/a', 'MRL'] = None"
   ]
  },
  {
   "cell_type": "code",
   "execution_count": 39,
   "id": "a236c1cf",
   "metadata": {},
   "outputs": [
    {
     "data": {
      "text/plain": [
       "9660"
      ]
     },
     "execution_count": 39,
     "metadata": {},
     "output_type": "execute_result"
    }
   ],
   "source": [
    "len(df.loc[df['MRL'].isna()])"
   ]
  },
  {
   "cell_type": "code",
   "execution_count": 40,
   "id": "e148edb9",
   "metadata": {},
   "outputs": [
    {
     "data": {
      "text/plain": [
       "9663"
      ]
     },
     "execution_count": 40,
     "metadata": {},
     "output_type": "execute_result"
    }
   ],
   "source": [
    "len(df.loc[df['amount_detected'].isna()])"
   ]
  },
  {
   "cell_type": "code",
   "execution_count": 41,
   "id": "1f34b776",
   "metadata": {},
   "outputs": [],
   "source": [
    "# df = df.loc[~df['MRL'].isna()]\n",
    "# df = df.loc[~df['amount_detected'].isna()]"
   ]
  },
  {
   "cell_type": "code",
   "execution_count": 42,
   "id": "1ef7d55c",
   "metadata": {},
   "outputs": [
    {
     "data": {
      "text/plain": [
       "9578"
      ]
     },
     "execution_count": 42,
     "metadata": {},
     "output_type": "execute_result"
    }
   ],
   "source": [
    "len(df.loc[df['chem_name'] == 'n/a'])"
   ]
  },
  {
   "cell_type": "code",
   "execution_count": 43,
   "id": "6a1c806f",
   "metadata": {},
   "outputs": [
    {
     "data": {
      "text/plain": [
       "0"
      ]
     },
     "execution_count": 43,
     "metadata": {},
     "output_type": "execute_result"
    }
   ],
   "source": [
    "len(df.loc[df['MRL'] == 'n/a'])"
   ]
  },
  {
   "cell_type": "code",
   "execution_count": 44,
   "id": "a7a92ad4",
   "metadata": {},
   "outputs": [
    {
     "data": {
      "text/plain": [
       "32536"
      ]
     },
     "execution_count": 44,
     "metadata": {},
     "output_type": "execute_result"
    }
   ],
   "source": [
    "len(df)"
   ]
  },
  {
   "cell_type": "code",
   "execution_count": 45,
   "id": "40808f26",
   "metadata": {},
   "outputs": [
    {
     "data": {
      "text/html": [
       "<div>\n",
       "<style scoped>\n",
       "    .dataframe tbody tr th:only-of-type {\n",
       "        vertical-align: middle;\n",
       "    }\n",
       "\n",
       "    .dataframe tbody tr th {\n",
       "        vertical-align: top;\n",
       "    }\n",
       "\n",
       "    .dataframe thead th {\n",
       "        text-align: right;\n",
       "    }\n",
       "</style>\n",
       "<table border=\"1\" class=\"dataframe\">\n",
       "  <thead>\n",
       "    <tr style=\"text-align: right;\">\n",
       "      <th></th>\n",
       "      <th>sample_id</th>\n",
       "      <th>date_of_sampling</th>\n",
       "      <th>description</th>\n",
       "      <th>country_of_origin</th>\n",
       "      <th>sampling_point</th>\n",
       "      <th>address</th>\n",
       "      <th>brand_name</th>\n",
       "      <th>packer / manufacturer / importer</th>\n",
       "      <th>pesticide_residues_found_in_mg/kg_(mrl)</th>\n",
       "      <th>amount_detected</th>\n",
       "      <th>chem_name</th>\n",
       "      <th>MRL</th>\n",
       "    </tr>\n",
       "  </thead>\n",
       "  <tbody>\n",
       "    <tr>\n",
       "      <th>6</th>\n",
       "      <td>3615/2021</td>\n",
       "      <td>2021-02-22T00:00:00</td>\n",
       "      <td>Asparagus</td>\n",
       "      <td>Mexico</td>\n",
       "      <td>Asda</td>\n",
       "      <td>Kings Weston Lane, Avonmouth, Bristol BS11 8AS</td>\n",
       "      <td>Asda Grower Selection</td>\n",
       "      <td>Wealmoor Ltd Greenford Park, Greenford UB6 0TP</td>\n",
       "      <td>flonicamid (sum) 0.2 (MRL = 0.03*)</td>\n",
       "      <td>0.2</td>\n",
       "      <td>flonicamid</td>\n",
       "      <td>0.03</td>\n",
       "    </tr>\n",
       "    <tr>\n",
       "      <th>22</th>\n",
       "      <td>3260/2021</td>\n",
       "      <td>2021-04-26T00:00:00</td>\n",
       "      <td>Fine Asparagus</td>\n",
       "      <td>Mexico</td>\n",
       "      <td>Morrisons</td>\n",
       "      <td>Foss Islands Road, Layerthorpe, York YO31 7UJ</td>\n",
       "      <td>Morrisons</td>\n",
       "      <td>Wm Morrison Supermarkets Plc 71 Gain Lane, Bra...</td>\n",
       "      <td>flonicamid (sum) 0.07 (MRL = 0.03*)</td>\n",
       "      <td>0.07</td>\n",
       "      <td>flonicamid</td>\n",
       "      <td>0.03</td>\n",
       "    </tr>\n",
       "    <tr>\n",
       "      <th>28</th>\n",
       "      <td>2511/2021</td>\n",
       "      <td>2021-10-18T00:00:00</td>\n",
       "      <td>Asparagus Spears</td>\n",
       "      <td>Peru</td>\n",
       "      <td>Sainsburys</td>\n",
       "      <td>London Road, Stoke On Trent ST4 7QD</td>\n",
       "      <td>Sainsburys</td>\n",
       "      <td>Sainsburys Supermarkets Ltd 33 Holborn, London...</td>\n",
       "      <td>methomyl 0.01 (MRL = 0.01*)</td>\n",
       "      <td>0.01</td>\n",
       "      <td>methomyl</td>\n",
       "      <td>0.01</td>\n",
       "    </tr>\n",
       "    <tr>\n",
       "      <th>44</th>\n",
       "      <td>3531/2021</td>\n",
       "      <td>2021-05-11T00:00:00</td>\n",
       "      <td>Asparagus</td>\n",
       "      <td>Peru</td>\n",
       "      <td>Total Worldfresh</td>\n",
       "      <td>c/o Ferryfast Produce Ltd, Ascot Road, Reytech...</td>\n",
       "      <td>Merca Jara</td>\n",
       "      <td>Agro Exportaciones Sunset EJRL, Aut. San Maria...</td>\n",
       "      <td>metribuzin 0.04 (MRL = 0.1*)</td>\n",
       "      <td>0.04</td>\n",
       "      <td>metribuzin</td>\n",
       "      <td>0.1</td>\n",
       "    </tr>\n",
       "    <tr>\n",
       "      <th>45</th>\n",
       "      <td>3531/2021</td>\n",
       "      <td>2021-05-11T00:00:00</td>\n",
       "      <td>Asparagus</td>\n",
       "      <td>Peru</td>\n",
       "      <td>Total Worldfresh</td>\n",
       "      <td>c/o Ferryfast Produce Ltd, Ascot Road, Reytech...</td>\n",
       "      <td>Merca Jara</td>\n",
       "      <td>Agro Exportaciones Sunset EJRL, Aut. San Maria...</td>\n",
       "      <td>methomyl 0.02 (MRL = 0.01*)</td>\n",
       "      <td>0.02</td>\n",
       "      <td>methomyl</td>\n",
       "      <td>0.01</td>\n",
       "    </tr>\n",
       "    <tr>\n",
       "      <th>46</th>\n",
       "      <td>3555/2021</td>\n",
       "      <td>2021-02-09T00:00:00</td>\n",
       "      <td>Green Asparagus</td>\n",
       "      <td>Mexico</td>\n",
       "      <td>WJ Holliman Ltd</td>\n",
       "      <td>Western International Market, Hayes Rd, Hounsl...</td>\n",
       "      <td>Altar</td>\n",
       "      <td>Altar Produce Mercamadrid Parcela H3B, 28053 M...</td>\n",
       "      <td>flonicamid (sum) 0.01 (MRL = 0.03*)</td>\n",
       "      <td>0.01</td>\n",
       "      <td>flonicamid</td>\n",
       "      <td>0.03</td>\n",
       "    </tr>\n",
       "    <tr>\n",
       "      <th>50</th>\n",
       "      <td>2420/2021</td>\n",
       "      <td>2021-04-12T00:00:00</td>\n",
       "      <td>Asparagus</td>\n",
       "      <td>Mexico</td>\n",
       "      <td>Asda</td>\n",
       "      <td>1 Ring Road, Coleraine BT52 1QP</td>\n",
       "      <td>Asda Grower Selection</td>\n",
       "      <td>Asda Stores Ltd Great Wilson Street, Leeds LS1...</td>\n",
       "      <td>flonicamid (sum) 0.04 (MRL = 0.03*)</td>\n",
       "      <td>0.04</td>\n",
       "      <td>flonicamid</td>\n",
       "      <td>0.03</td>\n",
       "    </tr>\n",
       "    <tr>\n",
       "      <th>142</th>\n",
       "      <td>3916/2021</td>\n",
       "      <td>2021-05-11T00:00:00</td>\n",
       "      <td>Baby Egg plant</td>\n",
       "      <td>Uganda</td>\n",
       "      <td>International Growers &amp; Wholesalers Ltd</td>\n",
       "      <td>80 New Spittalfield Market, Sherrin Road, Leyt...</td>\n",
       "      <td></td>\n",
       "      <td>K K Fresh Produce Exporter Ltd Plot 1567 Naaly...</td>\n",
       "      <td>profenofos 0.2 (MRL = 0.01*)</td>\n",
       "      <td>0.2</td>\n",
       "      <td>profenofos</td>\n",
       "      <td>0.01</td>\n",
       "    </tr>\n",
       "    <tr>\n",
       "      <th>202</th>\n",
       "      <td>4256/2021</td>\n",
       "      <td>2021-11-01T00:00:00</td>\n",
       "      <td>Baby Aubergine</td>\n",
       "      <td>Kenya</td>\n",
       "      <td>Sainsbury's Supermarkets Ltd</td>\n",
       "      <td>Houndmills Road, Basingstoke, Hants NE21 6XE</td>\n",
       "      <td>by Sainsbury's</td>\n",
       "      <td>Sainsbury's Supermarket Ltd 33 Holborn, London...</td>\n",
       "      <td>profenofos 0.02 (MRL = 0.01*)</td>\n",
       "      <td>0.02</td>\n",
       "      <td>profenofos</td>\n",
       "      <td>0.01</td>\n",
       "    </tr>\n",
       "    <tr>\n",
       "      <th>320</th>\n",
       "      <td>4248/2021</td>\n",
       "      <td>2021-12-07T00:00:00</td>\n",
       "      <td>Cavendish Bananas</td>\n",
       "      <td>Ecuador</td>\n",
       "      <td>Alam &amp; Sons</td>\n",
       "      <td>32-40 St James Market, Essex Street, Bradford ...</td>\n",
       "      <td>None stated</td>\n",
       "      <td>CIA Coexfruit S.A. Machala, El Oro</td>\n",
       "      <td>chlorpyrifos 0.03 (MRL = 0.01*)</td>\n",
       "      <td>0.03</td>\n",
       "      <td>chlorpyrifos</td>\n",
       "      <td>0.01</td>\n",
       "    </tr>\n",
       "  </tbody>\n",
       "</table>\n",
       "</div>"
      ],
      "text/plain": [
       "     sample_id     date_of_sampling        description country_of_origin  \\\n",
       "6    3615/2021  2021-02-22T00:00:00          Asparagus            Mexico   \n",
       "22   3260/2021  2021-04-26T00:00:00     Fine Asparagus            Mexico   \n",
       "28   2511/2021  2021-10-18T00:00:00   Asparagus Spears              Peru   \n",
       "44   3531/2021  2021-05-11T00:00:00          Asparagus              Peru   \n",
       "45   3531/2021  2021-05-11T00:00:00          Asparagus              Peru   \n",
       "46   3555/2021  2021-02-09T00:00:00    Green Asparagus            Mexico   \n",
       "50   2420/2021  2021-04-12T00:00:00          Asparagus            Mexico   \n",
       "142  3916/2021  2021-05-11T00:00:00     Baby Egg plant            Uganda   \n",
       "202  4256/2021  2021-11-01T00:00:00     Baby Aubergine             Kenya   \n",
       "320  4248/2021  2021-12-07T00:00:00  Cavendish Bananas           Ecuador   \n",
       "\n",
       "                              sampling_point  \\\n",
       "6                                       Asda   \n",
       "22                                 Morrisons   \n",
       "28                                Sainsburys   \n",
       "44                          Total Worldfresh   \n",
       "45                          Total Worldfresh   \n",
       "46                           WJ Holliman Ltd   \n",
       "50                                      Asda   \n",
       "142  International Growers & Wholesalers Ltd   \n",
       "202             Sainsbury's Supermarkets Ltd   \n",
       "320                              Alam & Sons   \n",
       "\n",
       "                                               address  \\\n",
       "6       Kings Weston Lane, Avonmouth, Bristol BS11 8AS   \n",
       "22       Foss Islands Road, Layerthorpe, York YO31 7UJ   \n",
       "28                 London Road, Stoke On Trent ST4 7QD   \n",
       "44   c/o Ferryfast Produce Ltd, Ascot Road, Reytech...   \n",
       "45   c/o Ferryfast Produce Ltd, Ascot Road, Reytech...   \n",
       "46   Western International Market, Hayes Rd, Hounsl...   \n",
       "50                     1 Ring Road, Coleraine BT52 1QP   \n",
       "142  80 New Spittalfield Market, Sherrin Road, Leyt...   \n",
       "202       Houndmills Road, Basingstoke, Hants NE21 6XE   \n",
       "320  32-40 St James Market, Essex Street, Bradford ...   \n",
       "\n",
       "                 brand_name  \\\n",
       "6    Asda Grower Selection    \n",
       "22               Morrisons    \n",
       "28              Sainsburys    \n",
       "44              Merca Jara    \n",
       "45              Merca Jara    \n",
       "46                   Altar    \n",
       "50   Asda Grower Selection    \n",
       "142                           \n",
       "202         by Sainsbury's    \n",
       "320            None stated    \n",
       "\n",
       "                      packer / manufacturer / importer  \\\n",
       "6       Wealmoor Ltd Greenford Park, Greenford UB6 0TP   \n",
       "22   Wm Morrison Supermarkets Plc 71 Gain Lane, Bra...   \n",
       "28   Sainsburys Supermarkets Ltd 33 Holborn, London...   \n",
       "44   Agro Exportaciones Sunset EJRL, Aut. San Maria...   \n",
       "45   Agro Exportaciones Sunset EJRL, Aut. San Maria...   \n",
       "46   Altar Produce Mercamadrid Parcela H3B, 28053 M...   \n",
       "50   Asda Stores Ltd Great Wilson Street, Leeds LS1...   \n",
       "142  K K Fresh Produce Exporter Ltd Plot 1567 Naaly...   \n",
       "202  Sainsbury's Supermarket Ltd 33 Holborn, London...   \n",
       "320                CIA Coexfruit S.A. Machala, El Oro    \n",
       "\n",
       "    pesticide_residues_found_in_mg/kg_(mrl) amount_detected     chem_name  \\\n",
       "6        flonicamid (sum) 0.2 (MRL = 0.03*)             0.2    flonicamid   \n",
       "22      flonicamid (sum) 0.07 (MRL = 0.03*)            0.07    flonicamid   \n",
       "28              methomyl 0.01 (MRL = 0.01*)            0.01      methomyl   \n",
       "44             metribuzin 0.04 (MRL = 0.1*)            0.04    metribuzin   \n",
       "45              methomyl 0.02 (MRL = 0.01*)            0.02      methomyl   \n",
       "46      flonicamid (sum) 0.01 (MRL = 0.03*)            0.01    flonicamid   \n",
       "50      flonicamid (sum) 0.04 (MRL = 0.03*)            0.04    flonicamid   \n",
       "142            profenofos 0.2 (MRL = 0.01*)             0.2    profenofos   \n",
       "202           profenofos 0.02 (MRL = 0.01*)            0.02    profenofos   \n",
       "320         chlorpyrifos 0.03 (MRL = 0.01*)            0.03  chlorpyrifos   \n",
       "\n",
       "      MRL  \n",
       "6    0.03  \n",
       "22   0.03  \n",
       "28   0.01  \n",
       "44    0.1  \n",
       "45   0.01  \n",
       "46   0.03  \n",
       "50   0.03  \n",
       "142  0.01  \n",
       "202  0.01  \n",
       "320  0.01  "
      ]
     },
     "execution_count": 45,
     "metadata": {},
     "output_type": "execute_result"
    }
   ],
   "source": [
    "df[df.apply(lambda x: x.str.contains('\\*', na=False)).any(axis=1)].head(10)"
   ]
  },
  {
   "cell_type": "code",
   "execution_count": 46,
   "id": "e477d9f3",
   "metadata": {},
   "outputs": [
    {
     "data": {
      "text/plain": [
       "0.4507567175273111"
      ]
     },
     "execution_count": 46,
     "metadata": {},
     "output_type": "execute_result"
    }
   ],
   "source": [
    "df['MRL'] = pd.to_numeric(df['MRL']) #converting mrls and amounts detected to numeric values\n",
    "df['amount_detected'] = pd.to_numeric(df['amount_detected'])\n",
    "df['amount_detected'].mean()"
   ]
  },
  {
   "cell_type": "code",
   "execution_count": 47,
   "id": "db59f033",
   "metadata": {},
   "outputs": [],
   "source": [
    "df.drop(['pesticide_residues_found_in_mg/kg_(mrl)'], axis=1, inplace=True)"
   ]
  },
  {
   "cell_type": "code",
   "execution_count": 48,
   "id": "1798d79f",
   "metadata": {},
   "outputs": [
    {
     "data": {
      "text/html": [
       "<div>\n",
       "<style scoped>\n",
       "    .dataframe tbody tr th:only-of-type {\n",
       "        vertical-align: middle;\n",
       "    }\n",
       "\n",
       "    .dataframe tbody tr th {\n",
       "        vertical-align: top;\n",
       "    }\n",
       "\n",
       "    .dataframe thead th {\n",
       "        text-align: right;\n",
       "    }\n",
       "</style>\n",
       "<table border=\"1\" class=\"dataframe\">\n",
       "  <thead>\n",
       "    <tr style=\"text-align: right;\">\n",
       "      <th></th>\n",
       "      <th>sample_id</th>\n",
       "      <th>date_of_sampling</th>\n",
       "      <th>description</th>\n",
       "      <th>country_of_origin</th>\n",
       "      <th>sampling_point</th>\n",
       "      <th>address</th>\n",
       "      <th>brand_name</th>\n",
       "      <th>packer / manufacturer / importer</th>\n",
       "      <th>amount_detected</th>\n",
       "      <th>chem_name</th>\n",
       "      <th>MRL</th>\n",
       "    </tr>\n",
       "  </thead>\n",
       "  <tbody>\n",
       "    <tr>\n",
       "      <th>6</th>\n",
       "      <td>3615/2021</td>\n",
       "      <td>2021-02-22T00:00:00</td>\n",
       "      <td>Asparagus</td>\n",
       "      <td>Mexico</td>\n",
       "      <td>Asda</td>\n",
       "      <td>Kings Weston Lane, Avonmouth, Bristol BS11 8AS</td>\n",
       "      <td>Asda Grower Selection</td>\n",
       "      <td>Wealmoor Ltd Greenford Park, Greenford UB6 0TP</td>\n",
       "      <td>0.20</td>\n",
       "      <td>flonicamid</td>\n",
       "      <td>0.03</td>\n",
       "    </tr>\n",
       "    <tr>\n",
       "      <th>22</th>\n",
       "      <td>3260/2021</td>\n",
       "      <td>2021-04-26T00:00:00</td>\n",
       "      <td>Fine Asparagus</td>\n",
       "      <td>Mexico</td>\n",
       "      <td>Morrisons</td>\n",
       "      <td>Foss Islands Road, Layerthorpe, York YO31 7UJ</td>\n",
       "      <td>Morrisons</td>\n",
       "      <td>Wm Morrison Supermarkets Plc 71 Gain Lane, Bra...</td>\n",
       "      <td>0.07</td>\n",
       "      <td>flonicamid</td>\n",
       "      <td>0.03</td>\n",
       "    </tr>\n",
       "    <tr>\n",
       "      <th>28</th>\n",
       "      <td>2511/2021</td>\n",
       "      <td>2021-10-18T00:00:00</td>\n",
       "      <td>Asparagus Spears</td>\n",
       "      <td>Peru</td>\n",
       "      <td>Sainsburys</td>\n",
       "      <td>London Road, Stoke On Trent ST4 7QD</td>\n",
       "      <td>Sainsburys</td>\n",
       "      <td>Sainsburys Supermarkets Ltd 33 Holborn, London...</td>\n",
       "      <td>0.01</td>\n",
       "      <td>methomyl</td>\n",
       "      <td>0.01</td>\n",
       "    </tr>\n",
       "    <tr>\n",
       "      <th>45</th>\n",
       "      <td>3531/2021</td>\n",
       "      <td>2021-05-11T00:00:00</td>\n",
       "      <td>Asparagus</td>\n",
       "      <td>Peru</td>\n",
       "      <td>Total Worldfresh</td>\n",
       "      <td>c/o Ferryfast Produce Ltd, Ascot Road, Reytech...</td>\n",
       "      <td>Merca Jara</td>\n",
       "      <td>Agro Exportaciones Sunset EJRL, Aut. San Maria...</td>\n",
       "      <td>0.02</td>\n",
       "      <td>methomyl</td>\n",
       "      <td>0.01</td>\n",
       "    </tr>\n",
       "    <tr>\n",
       "      <th>50</th>\n",
       "      <td>2420/2021</td>\n",
       "      <td>2021-04-12T00:00:00</td>\n",
       "      <td>Asparagus</td>\n",
       "      <td>Mexico</td>\n",
       "      <td>Asda</td>\n",
       "      <td>1 Ring Road, Coleraine BT52 1QP</td>\n",
       "      <td>Asda Grower Selection</td>\n",
       "      <td>Asda Stores Ltd Great Wilson Street, Leeds LS1...</td>\n",
       "      <td>0.04</td>\n",
       "      <td>flonicamid</td>\n",
       "      <td>0.03</td>\n",
       "    </tr>\n",
       "    <tr>\n",
       "      <th>...</th>\n",
       "      <td>...</td>\n",
       "      <td>...</td>\n",
       "      <td>...</td>\n",
       "      <td>...</td>\n",
       "      <td>...</td>\n",
       "      <td>...</td>\n",
       "      <td>...</td>\n",
       "      <td>...</td>\n",
       "      <td>...</td>\n",
       "      <td>...</td>\n",
       "      <td>...</td>\n",
       "    </tr>\n",
       "    <tr>\n",
       "      <th>37723</th>\n",
       "      <td>0505/2022</td>\n",
       "      <td>2022-02-08T00:00:00</td>\n",
       "      <td>Spinach</td>\n",
       "      <td>Italy</td>\n",
       "      <td>Barton &amp; Redman Ltd</td>\n",
       "      <td>Strawberry House, C6-13, D9-15 New Smithfield ...</td>\n",
       "      <td></td>\n",
       "      <td>Blackdown Growers Marketing North Fosse Farm, ...</td>\n",
       "      <td>1.20</td>\n",
       "      <td>acetamiprid</td>\n",
       "      <td>0.60</td>\n",
       "    </tr>\n",
       "    <tr>\n",
       "      <th>37736</th>\n",
       "      <td>0502/2022</td>\n",
       "      <td>2022-01-25T00:00:00</td>\n",
       "      <td>True Spinach</td>\n",
       "      <td>Spain</td>\n",
       "      <td>NQV (UK) Ltd</td>\n",
       "      <td>Unit B24-B25 New Smithfield Fruit Market, Whit...</td>\n",
       "      <td></td>\n",
       "      <td></td>\n",
       "      <td>0.03</td>\n",
       "      <td>deltamethrin</td>\n",
       "      <td>0.01</td>\n",
       "    </tr>\n",
       "    <tr>\n",
       "      <th>37744</th>\n",
       "      <td>0611/2022</td>\n",
       "      <td>2022-02-08T00:00:00</td>\n",
       "      <td>Spinach</td>\n",
       "      <td>Spain</td>\n",
       "      <td>Passion Greens Ltd</td>\n",
       "      <td>P1, Produce Hall, Western International Market...</td>\n",
       "      <td></td>\n",
       "      <td>Azara Produce Unit 6, Airedale Business Park, ...</td>\n",
       "      <td>0.07</td>\n",
       "      <td>dithiocarbamates</td>\n",
       "      <td>0.05</td>\n",
       "    </tr>\n",
       "    <tr>\n",
       "      <th>37750</th>\n",
       "      <td>0561/2022</td>\n",
       "      <td>2022-01-25T00:00:00</td>\n",
       "      <td>Spinach</td>\n",
       "      <td>Spain</td>\n",
       "      <td>Sunny Exotics Ltd</td>\n",
       "      <td>Birmingham Wholesale Market, The Hub, Nobel Wa...</td>\n",
       "      <td></td>\n",
       "      <td>Villafresno S L NRGSA 21 029104/M, Murcia, Spain</td>\n",
       "      <td>0.04</td>\n",
       "      <td>deltamethrin</td>\n",
       "      <td>0.01</td>\n",
       "    </tr>\n",
       "    <tr>\n",
       "      <th>37950</th>\n",
       "      <td>0267/2022</td>\n",
       "      <td>2022-02-14T00:00:00</td>\n",
       "      <td>Salad</td>\n",
       "      <td>Morocco</td>\n",
       "      <td>Asda</td>\n",
       "      <td>Old Mill Lane, Mansfield NG19 0HA</td>\n",
       "      <td>Asda</td>\n",
       "      <td>ASDA Stores Ltd Great Wilson Street, Leeds LS1...</td>\n",
       "      <td>0.01</td>\n",
       "      <td>chlorfenapyr</td>\n",
       "      <td>0.01</td>\n",
       "    </tr>\n",
       "  </tbody>\n",
       "</table>\n",
       "<p>1279 rows × 11 columns</p>\n",
       "</div>"
      ],
      "text/plain": [
       "       sample_id     date_of_sampling       description country_of_origin  \\\n",
       "6      3615/2021  2021-02-22T00:00:00         Asparagus            Mexico   \n",
       "22     3260/2021  2021-04-26T00:00:00    Fine Asparagus            Mexico   \n",
       "28     2511/2021  2021-10-18T00:00:00  Asparagus Spears              Peru   \n",
       "45     3531/2021  2021-05-11T00:00:00         Asparagus              Peru   \n",
       "50     2420/2021  2021-04-12T00:00:00         Asparagus            Mexico   \n",
       "...          ...                  ...               ...               ...   \n",
       "37723  0505/2022  2022-02-08T00:00:00           Spinach             Italy   \n",
       "37736  0502/2022  2022-01-25T00:00:00      True Spinach             Spain   \n",
       "37744  0611/2022  2022-02-08T00:00:00           Spinach             Spain   \n",
       "37750  0561/2022  2022-01-25T00:00:00           Spinach             Spain   \n",
       "37950  0267/2022  2022-02-14T00:00:00             Salad           Morocco   \n",
       "\n",
       "            sampling_point                                            address  \\\n",
       "6                     Asda     Kings Weston Lane, Avonmouth, Bristol BS11 8AS   \n",
       "22               Morrisons      Foss Islands Road, Layerthorpe, York YO31 7UJ   \n",
       "28              Sainsburys                London Road, Stoke On Trent ST4 7QD   \n",
       "45        Total Worldfresh  c/o Ferryfast Produce Ltd, Ascot Road, Reytech...   \n",
       "50                    Asda                    1 Ring Road, Coleraine BT52 1QP   \n",
       "...                    ...                                                ...   \n",
       "37723  Barton & Redman Ltd  Strawberry House, C6-13, D9-15 New Smithfield ...   \n",
       "37736         NQV (UK) Ltd  Unit B24-B25 New Smithfield Fruit Market, Whit...   \n",
       "37744   Passion Greens Ltd  P1, Produce Hall, Western International Market...   \n",
       "37750    Sunny Exotics Ltd  Birmingham Wholesale Market, The Hub, Nobel Wa...   \n",
       "37950                 Asda                  Old Mill Lane, Mansfield NG19 0HA   \n",
       "\n",
       "                   brand_name  \\\n",
       "6      Asda Grower Selection    \n",
       "22                 Morrisons    \n",
       "28                Sainsburys    \n",
       "45                Merca Jara    \n",
       "50     Asda Grower Selection    \n",
       "...                       ...   \n",
       "37723                           \n",
       "37736                           \n",
       "37744                           \n",
       "37750                           \n",
       "37950                   Asda    \n",
       "\n",
       "                        packer / manufacturer / importer  amount_detected  \\\n",
       "6         Wealmoor Ltd Greenford Park, Greenford UB6 0TP             0.20   \n",
       "22     Wm Morrison Supermarkets Plc 71 Gain Lane, Bra...             0.07   \n",
       "28     Sainsburys Supermarkets Ltd 33 Holborn, London...             0.01   \n",
       "45     Agro Exportaciones Sunset EJRL, Aut. San Maria...             0.02   \n",
       "50     Asda Stores Ltd Great Wilson Street, Leeds LS1...             0.04   \n",
       "...                                                  ...              ...   \n",
       "37723  Blackdown Growers Marketing North Fosse Farm, ...             1.20   \n",
       "37736                                                                0.03   \n",
       "37744  Azara Produce Unit 6, Airedale Business Park, ...             0.07   \n",
       "37750  Villafresno S L NRGSA 21 029104/M, Murcia, Spain              0.04   \n",
       "37950  ASDA Stores Ltd Great Wilson Street, Leeds LS1...             0.01   \n",
       "\n",
       "              chem_name   MRL  \n",
       "6            flonicamid  0.03  \n",
       "22           flonicamid  0.03  \n",
       "28             methomyl  0.01  \n",
       "45             methomyl  0.01  \n",
       "50           flonicamid  0.03  \n",
       "...                 ...   ...  \n",
       "37723       acetamiprid  0.60  \n",
       "37736      deltamethrin  0.01  \n",
       "37744  dithiocarbamates  0.05  \n",
       "37750      deltamethrin  0.01  \n",
       "37950      chlorfenapyr  0.01  \n",
       "\n",
       "[1279 rows x 11 columns]"
      ]
     },
     "execution_count": 48,
     "metadata": {},
     "output_type": "execute_result"
    }
   ],
   "source": [
    "df.loc[df['amount_detected'] >= df['MRL']]"
   ]
  },
  {
   "cell_type": "code",
   "execution_count": 49,
   "id": "f276e3a7",
   "metadata": {},
   "outputs": [
    {
     "data": {
      "text/plain": [
       "Conference Pears              587\n",
       "Whole Milk                    463\n",
       "Okra                          447\n",
       "Star Ruby Grapefruit          425\n",
       "Raspberries                   331\n",
       "                             ... \n",
       "Budweiser Beer                  1\n",
       "Carling Beer                    1\n",
       "Tennents Beer                   1\n",
       "Amstel Bier                     1\n",
       "Organic Barbareia Tomatoes      1\n",
       "Name: description, Length: 5991, dtype: int64"
      ]
     },
     "execution_count": 49,
     "metadata": {},
     "output_type": "execute_result"
    }
   ],
   "source": [
    "df['description'].value_counts()"
   ]
  },
  {
   "cell_type": "code",
   "execution_count": 50,
   "id": "3e32a2d3",
   "metadata": {},
   "outputs": [
    {
     "data": {
      "text/plain": [
       "<AxesSubplot:>"
      ]
     },
     "execution_count": 50,
     "metadata": {},
     "output_type": "execute_result"
    },
    {
     "data": {
      "image/png": "[encoded data removed]",
      "text/plain": [
       "<Figure size 640x480 with 1 Axes>"
      ]
     },
     "metadata": {},
     "output_type": "display_data"
    }
   ],
   "source": [
    "df['MRL'].hist(bins=50)"
   ]
  },
  {
   "cell_type": "code",
   "execution_count": 51,
   "id": "b0a06e80",
   "metadata": {},
   "outputs": [
    {
     "data": {
      "text/html": [
       "<div>\n",
       "<style scoped>\n",
       "    .dataframe tbody tr th:only-of-type {\n",
       "        vertical-align: middle;\n",
       "    }\n",
       "\n",
       "    .dataframe tbody tr th {\n",
       "        vertical-align: top;\n",
       "    }\n",
       "\n",
       "    .dataframe thead th {\n",
       "        text-align: right;\n",
       "    }\n",
       "</style>\n",
       "<table border=\"1\" class=\"dataframe\">\n",
       "  <thead>\n",
       "    <tr style=\"text-align: right;\">\n",
       "      <th></th>\n",
       "      <th>amount_detected</th>\n",
       "      <th>MRL</th>\n",
       "    </tr>\n",
       "  </thead>\n",
       "  <tbody>\n",
       "    <tr>\n",
       "      <th>count</th>\n",
       "      <td>22873.000000</td>\n",
       "      <td>22876.000000</td>\n",
       "    </tr>\n",
       "    <tr>\n",
       "      <th>mean</th>\n",
       "      <td>0.450757</td>\n",
       "      <td>5.838750</td>\n",
       "    </tr>\n",
       "    <tr>\n",
       "      <th>std</th>\n",
       "      <td>1.998795</td>\n",
       "      <td>14.280288</td>\n",
       "    </tr>\n",
       "    <tr>\n",
       "      <th>min</th>\n",
       "      <td>0.001000</td>\n",
       "      <td>0.002000</td>\n",
       "    </tr>\n",
       "    <tr>\n",
       "      <th>25%</th>\n",
       "      <td>0.020000</td>\n",
       "      <td>0.600000</td>\n",
       "    </tr>\n",
       "    <tr>\n",
       "      <th>50%</th>\n",
       "      <td>0.050000</td>\n",
       "      <td>2.000000</td>\n",
       "    </tr>\n",
       "    <tr>\n",
       "      <th>75%</th>\n",
       "      <td>0.200000</td>\n",
       "      <td>5.000000</td>\n",
       "    </tr>\n",
       "    <tr>\n",
       "      <th>max</th>\n",
       "      <td>63.000000</td>\n",
       "      <td>300.000000</td>\n",
       "    </tr>\n",
       "  </tbody>\n",
       "</table>\n",
       "</div>"
      ],
      "text/plain": [
       "       amount_detected           MRL\n",
       "count     22873.000000  22876.000000\n",
       "mean          0.450757      5.838750\n",
       "std           1.998795     14.280288\n",
       "min           0.001000      0.002000\n",
       "25%           0.020000      0.600000\n",
       "50%           0.050000      2.000000\n",
       "75%           0.200000      5.000000\n",
       "max          63.000000    300.000000"
      ]
     },
     "execution_count": 51,
     "metadata": {},
     "output_type": "execute_result"
    }
   ],
   "source": [
    "df.describe()"
   ]
  },
  {
   "cell_type": "code",
   "execution_count": 52,
   "id": "f523d4dd",
   "metadata": {},
   "outputs": [],
   "source": [
    "df.to_csv('cleaned_data/joined_data.csv', index=False)"
   ]
  },
  {
   "cell_type": "code",
   "execution_count": null,
   "id": "38735a5e",
   "metadata": {},
   "outputs": [],
   "source": []
  }
 ],
 "metadata": {
  "kernelspec": {
   "display_name": "Python 3 (ipykernel)",
   "language": "python",
   "name": "python3"
  },
  "language_info": {
   "codemirror_mode": {
    "name": "ipython",
    "version": 3
   },
   "file_extension": ".py",
   "mimetype": "text/x-python",
   "name": "python",
   "nbconvert_exporter": "python",
   "pygments_lexer": "ipython3",
   "version": "3.9.13"
  }
 },
 "nbformat": 4,
 "nbformat_minor": 5
}
