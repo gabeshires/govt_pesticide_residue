{
 "cells": [
  {
   "cell_type": "code",
   "execution_count": null,
   "metadata": {},
   "outputs": [],
   "source": [
    "# Types of analysis:\n",
    "# 1) Summary of each product (apples or aubergines), grouped by country of origin\n",
    "# 1b) under each Country group, results grouped by detected chemicals (DC)\n",
    "# 1c) for each DC, show the count of products with some detected and the range they were in\n",
    "# 1d) for each DC, show the count of products with none-detected\n",
    "# 2) Counts of product items grouped by country of origin, e.g \"Apples from USA = 6, Apples from France = 3 \"\n",
    "# 3) Distribution of DCs grouped by country of origin, e.g. boscalid : UK = 2, USA = 5.\n",
    "# 4) Statement of Count Range of DCs found in how many of total number of samples, e.g. \"Residues (ranging from 1 to 11) were detected in 12 of 24 of the samples analysed\"\n",
    "# 5) A table showing number of residues, sample ID, Type of apple, amounts of each DC (and a '-' if n/a) and the country of origin\n",
    "# 6) total list of chemicals analysed for but not found.\n",
    "# ideas:\n",
    "# 1) for each product, show pie chart of prods with none detected, one detected, multiple detected\n",
    "# 2) same as above, but filter by supermarket.\n",
    "# 2b) same as above but filter by country of origin\n",
    "# 2c) same as above but show breakdown\n",
    "# 3) scattergraph of amounts detected across product category, compared to MRLs (either individual DCs or agregated)\n",
    "# 4) Stacked bargraph showing total amount detected per sample, with a different colour to represent each DC.\n",
    "# 5) some kind of graph to represent the chemicals that were not detected"
   ]
  }
 ],
 "metadata": {
  "kernelspec": {
   "display_name": "Python 3",
   "language": "python",
   "name": "python3"
  },
  "language_info": {
   "codemirror_mode": {
    "name": "ipython",
    "version": 3
   },
   "file_extension": ".py",
   "mimetype": "text/x-python",
   "name": "python",
   "nbconvert_exporter": "python",
   "pygments_lexer": "ipython3",
   "version": "3.7.3"
  }
 },
 "nbformat": 4,
 "nbformat_minor": 2
}
